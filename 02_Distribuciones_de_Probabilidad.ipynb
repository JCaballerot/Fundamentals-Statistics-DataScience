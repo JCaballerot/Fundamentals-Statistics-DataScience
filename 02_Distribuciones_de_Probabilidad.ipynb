{
  "nbformat": 4,
  "nbformat_minor": 0,
  "metadata": {
    "colab": {
      "provenance": [],
      "authorship_tag": "ABX9TyN0eDVe0W7X8KQj3U+YjGp9",
      "include_colab_link": true
    },
    "kernelspec": {
      "name": "python3",
      "display_name": "Python 3"
    },
    "language_info": {
      "name": "python"
    }
  },
  "cells": [
    {
      "cell_type": "markdown",
      "metadata": {
        "id": "view-in-github",
        "colab_type": "text"
      },
      "source": [
        "<a href=\"https://colab.research.google.com/github/JCaballerot/Statistics-DataScience/blob/main/02_Distribuciones_de_Probabilidad.ipynb\" target=\"_parent\"><img src=\"https://colab.research.google.com/assets/colab-badge.svg\" alt=\"Open In Colab\"/></a>"
      ]
    },
    {
      "cell_type": "markdown",
      "source": [
        "\n",
        "<img src=\"https://storage.googleapis.com/kaggle-datasets-images/916586/1553068/ddd9373754b16217a54a513f0d94628a/dataset-cover.png?t=2020-10-12-00-50-47\" alt=\"HTML5 Icon\" style=\"width: 600px; height: 450px;\">\n",
        "<div style=\"text-align: center\"></div>"
      ],
      "metadata": {
        "id": "LjS747kD1auy"
      }
    },
    {
      "cell_type": "markdown",
      "source": [
        "# Laboratorio: Distribuciones de Probabilidad\n"
      ],
      "metadata": {
        "id": "uSeQfZhH07zM"
      }
    },
    {
      "cell_type": "markdown",
      "source": [
        "**Introducción**\n",
        "\n",
        "En este laboratorio, trabajaremos con conceptos de distribuciones de probabilidad utilizando Python. Exploraremos distribuciones discretas y continuas, haremos pruebas de normalidad y utilizaremos el concepto de z-score para interpretar distribuciones. Además, realizaremos cálculos de intervalos de confianza."
      ],
      "metadata": {
        "id": "4OdbXDCR0-LE"
      }
    },
    {
      "cell_type": "markdown",
      "source": [
        "## Tabla de Contenidos\n",
        "\n",
        "1. [Ejercicio de Distribución Normal](#ejercicio-de-distribución-normal)\n",
        "2. [Prueba de Normalidad (Prueba Omnibus)](#prueba-de-normalidad-prueba-omnibus)\n",
        "3. [Estandarización de Datos](#estandarización-de-datos)\n",
        "4. [Análisis de Z-Score](#análisis-de-z-score)\n",
        "5. [Intervalos de Confianza](#intervalos-de-confianza)\n"
      ],
      "metadata": {
        "id": "V48bQke01PLH"
      }
    },
    {
      "cell_type": "markdown",
      "source": [
        "## 1. Ejercicio de Distribución Normal\n"
      ],
      "metadata": {
        "id": "vExdYmL11tc8"
      }
    },
    {
      "cell_type": "markdown",
      "source": [
        "Generaremos datos simulados para obtener una distribución basada en la suma de dos dados, con lo que exploraremos la tendencia de las distribuciones."
      ],
      "metadata": {
        "id": "SrToCj9O1w9W"
      }
    },
    {
      "cell_type": "code",
      "source": [
        "import random\n",
        "import pandas as pd"
      ],
      "metadata": {
        "id": "M485bSu914DX"
      },
      "execution_count": null,
      "outputs": []
    },
    {
      "cell_type": "code",
      "execution_count": null,
      "metadata": {
        "id": "1yK_zfuK0wTP"
      },
      "outputs": [],
      "source": [
        "resultados = []\n",
        "\n",
        "# Simulamos 10 millones de lanzamientos de dos dados y sumamos sus resultados.\n",
        "for i in range(1, 10_000_001):\n",
        "  dado1 = random.randrange(1, 7)\n",
        "  dado2 = random.randrange(1, 7)\n",
        "  resultado = dado1 + dado2\n",
        "  resultados.append(resultado)\n"
      ]
    },
    {
      "cell_type": "code",
      "source": [
        "# Verificamos el número de resultados generados\n",
        "print(f\"Número de resultados generados: {len(resultados)}\")"
      ],
      "metadata": {
        "id": "_511FuPu11xD"
      },
      "execution_count": null,
      "outputs": []
    },
    {
      "cell_type": "code",
      "source": [
        "# Creamos un DataFrame y mostramos la distribución de la suma de los dados\n",
        "df_dados = pd.DataFrame({'resultado': resultados})\n",
        "df_dados['resultado'].hist(bins=11)\n",
        "plt.title('Distribución de la suma de dos dados')\n",
        "plt.xlabel('Suma de dados')\n",
        "plt.ylabel('Frecuencia')\n",
        "plt.show()\n"
      ],
      "metadata": {
        "id": "bQZPq8Ln10Gu"
      },
      "execution_count": null,
      "outputs": []
    },
    {
      "cell_type": "markdown",
      "source": [
        "Este ejercicio genera una distribución basada en la suma de dos dados, que debería aproximarse a una distribución normal debido al Teorema del Límite Central, dado el gran número de simulaciones."
      ],
      "metadata": {
        "id": "yEDGn8bO17ih"
      }
    },
    {
      "cell_type": "markdown",
      "source": [
        "## 2. Prueba de Normalidad (Prueba Omnibus)\n"
      ],
      "metadata": {
        "id": "mtKlXK5b2DlY"
      }
    },
    {
      "cell_type": "markdown",
      "source": [
        "---\n",
        "## Gracias por completar este laboratorio!"
      ],
      "metadata": {
        "id": "-_eJNdqb2HjY"
      }
    }
  ]
}