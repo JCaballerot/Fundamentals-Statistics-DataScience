{
  "nbformat": 4,
  "nbformat_minor": 0,
  "metadata": {
    "colab": {
      "provenance": [],
      "authorship_tag": "ABX9TyO/PX4TREaD6fiK0ta2tbsO",
      "include_colab_link": true
    },
    "kernelspec": {
      "name": "python3",
      "display_name": "Python 3"
    },
    "language_info": {
      "name": "python"
    }
  },
  "cells": [
    {
      "cell_type": "markdown",
      "metadata": {
        "id": "view-in-github",
        "colab_type": "text"
      },
      "source": [
        "<a href=\"https://colab.research.google.com/github/JCaballerot/Statistics-DataScience/blob/main/02-Distribuciones-de-Probabilidad.ipynb\" target=\"_parent\"><img src=\"https://colab.research.google.com/assets/colab-badge.svg\" alt=\"Open In Colab\"/></a>"
      ]
    },
    {
      "cell_type": "markdown",
      "source": [
        "\n",
        "<img src=\"https://storage.googleapis.com/kaggle-datasets-images/916586/1553068/ddd9373754b16217a54a513f0d94628a/dataset-cover.png?t=2020-10-12-00-50-47\" alt=\"HTML5 Icon\" style=\"width: 600px; height: 450px;\">\n",
        "<div style=\"text-align: center\"></div>"
      ],
      "metadata": {
        "id": "LjS747kD1auy"
      }
    },
    {
      "cell_type": "markdown",
      "source": [
        "# Laboratorio: Distribuciones de Probabilidad\n"
      ],
      "metadata": {
        "id": "uSeQfZhH07zM"
      }
    },
    {
      "cell_type": "markdown",
      "source": [
        "**Introducción**\n",
        "\n",
        "En este laboratorio, trabajaremos con conceptos de distribuciones de probabilidad utilizando Python. Exploraremos distribuciones discretas y continuas, haremos pruebas de normalidad y utilizaremos el concepto de z-score para interpretar distribuciones. Además, realizaremos cálculos de intervalos de confianza."
      ],
      "metadata": {
        "id": "4OdbXDCR0-LE"
      }
    },
    {
      "cell_type": "markdown",
      "source": [
        "## Tabla de Contenidos\n",
        "\n",
        "1. [Ejercicio de Distribución Normal](#ejercicio-de-distribución-normal)\n",
        "2. [Prueba de Normalidad (Prueba Omnibus)](#prueba-de-normalidad-prueba-omnibus)\n",
        "3. [Estandarización de Datos](#estandarización-de-datos)\n",
        "4. [Análisis de Z-Score](#análisis-de-z-score)\n",
        "5. [Intervalos de Confianza](#intervalos-de-confianza)\n"
      ],
      "metadata": {
        "id": "V48bQke01PLH"
      }
    },
    {
      "cell_type": "markdown",
      "source": [
        "## 1. Ejercicio de Distribución Normal\n"
      ],
      "metadata": {
        "id": "vExdYmL11tc8"
      }
    },
    {
      "cell_type": "markdown",
      "source": [
        "Generaremos datos simulados para obtener una distribución basada en la suma de dos dados, con lo que exploraremos la tendencia de las distribuciones."
      ],
      "metadata": {
        "id": "SrToCj9O1w9W"
      }
    },
    {
      "cell_type": "code",
      "source": [
        "import random\n",
        "import pandas as pd"
      ],
      "metadata": {
        "id": "M485bSu914DX"
      },
      "execution_count": null,
      "outputs": []
    },
    {
      "cell_type": "code",
      "execution_count": null,
      "metadata": {
        "id": "1yK_zfuK0wTP"
      },
      "outputs": [],
      "source": [
        "resultados = []\n",
        "\n",
        "# Simulamos 10 millones de lanzamientos de dos dados y sumamos sus resultados.\n",
        "for i in range(1, 10_000_001):\n",
        "  dado1 = random.randrange(1, 7)\n",
        "  dado2 = random.randrange(1, 7)\n",
        "  resultado = dado1 + dado2\n",
        "  resultados.append(resultado)\n"
      ]
    },
    {
      "cell_type": "code",
      "source": [
        "# Verificamos el número de resultados generados\n",
        "print(f\"Número de resultados generados: {len(resultados)}\")"
      ],
      "metadata": {
        "id": "_511FuPu11xD"
      },
      "execution_count": null,
      "outputs": []
    },
    {
      "cell_type": "code",
      "source": [
        "# Creamos un DataFrame y mostramos la distribución de la suma de los dados\n",
        "df_dados = pd.DataFrame({'resultado': resultados})\n",
        "df_dados['resultado'].hist(bins=11)\n",
        "plt.title('Distribución de la suma de dos dados')\n",
        "plt.xlabel('Suma de dados')\n",
        "plt.ylabel('Frecuencia')\n",
        "plt.show()\n"
      ],
      "metadata": {
        "id": "bQZPq8Ln10Gu"
      },
      "execution_count": null,
      "outputs": []
    },
    {
      "cell_type": "markdown",
      "source": [
        "Este ejercicio genera una distribución basada en la suma de dos dados, que debería aproximarse a una distribución normal debido al Teorema del Límite Central, dado el gran número de simulaciones."
      ],
      "metadata": {
        "id": "yEDGn8bO17ih"
      }
    },
    {
      "cell_type": "markdown",
      "source": [
        "## 2. Prueba de Normalidad (Prueba Omnibus)\n"
      ],
      "metadata": {
        "id": "mtKlXK5b2DlY"
      }
    },
    {
      "cell_type": "markdown",
      "source": [
        "Ahora realizamos una prueba de normalidad sobre los datos de edad (age) del dataset de Bank Marketing para verificar si siguen una distribución normal.\n",
        "\n"
      ],
      "metadata": {
        "id": "hFByOUb23AyJ"
      }
    },
    {
      "cell_type": "code",
      "source": [
        "import pandas as pd\n",
        "from scipy.stats import normaltest\n",
        "from math import log\n"
      ],
      "metadata": {
        "id": "T9bYE6Bt3DBx"
      },
      "execution_count": null,
      "outputs": []
    },
    {
      "cell_type": "code",
      "source": [
        "# Cargamos el dataset de Bank Marketing\n",
        "pddd = pd.read_csv('bank.csv')"
      ],
      "metadata": {
        "id": "1PfjM-PN3FMc"
      },
      "execution_count": null,
      "outputs": []
    },
    {
      "cell_type": "code",
      "source": [
        "# Visualizamos la distribución de la edad\n",
        "pddd.age.hist(bins=20)\n",
        "plt.title('Distribución de la edad')\n",
        "plt.show()\n"
      ],
      "metadata": {
        "id": "56aw9UzY3Hqd"
      },
      "execution_count": null,
      "outputs": []
    },
    {
      "cell_type": "code",
      "source": [
        "# Aplicamos una transformación logarítmica para ver cómo cambia la distribución\n",
        "pddd.age.apply(lambda x: log(x)).hist(bins=20)\n",
        "plt.title('Distribución de la edad transformada logarítmicamente')\n",
        "plt.show()"
      ],
      "metadata": {
        "id": "TgX6t_6R3It2"
      },
      "execution_count": null,
      "outputs": []
    },
    {
      "cell_type": "code",
      "source": [
        "# Prueba Omnibus para verificar la normalidad de los datos de edad\n",
        "stat, p_val = normaltest(pddd['age'])\n",
        "print(f'Estadístico: {stat}, p-valor: {p_val}')\n"
      ],
      "metadata": {
        "id": "K0dESDox3B3X"
      },
      "execution_count": null,
      "outputs": []
    },
    {
      "cell_type": "code",
      "source": [
        "# Función para interpretar los resultados de la prueba de normalidad\n",
        "def check_p_val(p_val, alpha):\n",
        "    if p_val < alpha:\n",
        "        print('Tenemos evidencia suficiente para rechazar la hipótesis nula.')\n",
        "    else:\n",
        "        print('No tenemos evidencia suficiente para rechazar la hipótesis nula.')\n",
        "\n",
        "# Verificamos la normalidad con un nivel de confianza del 95%\n",
        "alpha = 0.05\n",
        "check_p_val(p_val, alpha)"
      ],
      "metadata": {
        "id": "1NGIFHtk3Ljb"
      },
      "execution_count": null,
      "outputs": []
    },
    {
      "cell_type": "markdown",
      "source": [
        "Utilizamos la Prueba Omnibus para verificar si los datos de edad siguen una distribución normal. La hipótesis nula (H0) es que los datos son normales. Si el p-valor es menor que 0.05, rechazamos la hipótesis de normalidad."
      ],
      "metadata": {
        "id": "i2ZOILZv3P8k"
      }
    },
    {
      "cell_type": "markdown",
      "source": [
        "## 3. Estandarización de Datos\n"
      ],
      "metadata": {
        "id": "Z22iEBpL3Rr9"
      }
    },
    {
      "cell_type": "markdown",
      "source": [
        "La estandarización es una técnica para convertir datos a una distribución con media 0 y desviación estándar 1. Aquí estandarizamos la variable age para normalizarla."
      ],
      "metadata": {
        "id": "jTXY2B9_3WvJ"
      }
    },
    {
      "cell_type": "code",
      "source": [
        "# Estandarizamos la variable age\n",
        "pddd['age_estandar'] = (pddd['age'] - pddd['age'].mean()) / pddd['age'].std()"
      ],
      "metadata": {
        "id": "lUoRcIif3XxR"
      },
      "execution_count": null,
      "outputs": []
    },
    {
      "cell_type": "code",
      "source": [
        "# Comparamos la distribución original y la estandarizada\n",
        "plt.figure(figsize=(12,6))\n",
        "plt.subplot(1, 2, 1)\n",
        "pddd['age'].hist(bins=20)\n",
        "plt.title('Distribución original de la edad')\n",
        "\n",
        "plt.subplot(1, 2, 2)\n",
        "pddd['age_estandar'].hist(bins=20)\n",
        "plt.title('Distribución estandarizada de la edad')\n",
        "plt.show()"
      ],
      "metadata": {
        "id": "UFKik7B-3Zv_"
      },
      "execution_count": null,
      "outputs": []
    },
    {
      "cell_type": "markdown",
      "source": [
        "Estandarizamos los datos de age para obtener una distribución con media 0 y desviación estándar 1, lo que facilita la comparación entre diferentes variables."
      ],
      "metadata": {
        "id": "-H-nIbr33hX3"
      }
    },
    {
      "cell_type": "markdown",
      "source": [
        "## 4. Análisis de Z-Score\n"
      ],
      "metadata": {
        "id": "L61BeTVj3i5j"
      }
    },
    {
      "cell_type": "markdown",
      "source": [
        "El z-score nos permite calcular la probabilidad de que un valor específico ocurra en una distribución normal. Vamos a calcular la probabilidad de que un niño tenga un ritmo cardíaco mayor a 120 usando el dataset de Fetal Health."
      ],
      "metadata": {
        "id": "nVFi0mYS3m3s"
      }
    },
    {
      "cell_type": "code",
      "source": [
        "# Cargamos el dataset de Fetal Health\n",
        "pddf = pd.read_csv('fetal_health.csv')"
      ],
      "metadata": {
        "id": "68xtB2Ao3oSz"
      },
      "execution_count": null,
      "outputs": []
    },
    {
      "cell_type": "code",
      "source": [
        "# Calculamos el z-score para un ritmo cardíaco mayor a 120\n",
        "media = pddf['baseline value'].mean()\n",
        "desv_est = pddf['baseline value'].std()\n",
        "\n",
        "z = (120 - media) / desv_est\n",
        "print(f'Z-score: {z}')"
      ],
      "metadata": {
        "id": "TamEXX953pkB"
      },
      "execution_count": null,
      "outputs": []
    },
    {
      "cell_type": "code",
      "source": [
        "# La probabilidad de tener un ritmo mayor a 120 se calcula restando el valor p del z-score de 1\n",
        "p_menor = 0.088  # Dado por la tabla de z-scores\n",
        "p_mayor = 1 - p_menor\n",
        "print(f'Probabilidad de tener un ritmo mayor a 120: {p_mayor}')"
      ],
      "metadata": {
        "id": "t6Z7s7RT3uak"
      },
      "execution_count": null,
      "outputs": []
    },
    {
      "cell_type": "markdown",
      "source": [
        "Usamos el z-score para calcular la probabilidad de que el ritmo cardíaco de un niño sea mayor a 120.\n",
        "\n"
      ],
      "metadata": {
        "id": "rxgBT95p3wP6"
      }
    },
    {
      "cell_type": "markdown",
      "source": [
        "## 5. Intervalos de Confianza"
      ],
      "metadata": {
        "id": "2qCajgVL3xpF"
      }
    },
    {
      "cell_type": "markdown",
      "source": [
        "Calculemos los intervalos de confianza del 95% para el ritmo cardíaco promedio de los niños.\n",
        "\n"
      ],
      "metadata": {
        "id": "GlrA-IJg3znW"
      }
    },
    {
      "cell_type": "code",
      "source": [
        "# Cálculo del intervalo de confianza al 95%\n",
        "LS = 1.96 * desv_est + media\n",
        "LI = -1.96 * desv_est + media\n",
        "\n",
        "print(f'Intervalo de confianza al 95%: [{LI}, {LS}]')\n",
        "\n",
        "# Desafíos:\n",
        "# 1. Calcula el intervalo de confianza al 99% para los datos.\n",
        "# 2. Determina el umbral sobre el cual se encuentra el 95% de los datos.\n"
      ],
      "metadata": {
        "id": "ypv9dxIE308Z"
      },
      "execution_count": null,
      "outputs": []
    },
    {
      "cell_type": "markdown",
      "source": [
        "Calculamos el intervalo de confianza al 95% utilizando el z-score de 1.96, lo cual es típico para intervalos de confianza del 95%."
      ],
      "metadata": {
        "id": "eZRwEfHb348o"
      }
    },
    {
      "cell_type": "markdown",
      "source": [
        "## Conclusión:\n",
        "\n",
        "Has completado el laboratorio sobre Distribuciones de Probabilidad utilizando Python. A lo largo del análisis, hemos aplicado diversas técnicas para entender la distribución de los datos, verificar su normalidad, calcular intervalos de confianza y utilizar el z-score para interpretar resultados. Las herramientas y métodos presentados en este laboratorio son fundamentales para realizar análisis estadísticos avanzados en cualquier contexto de Ciencia de Datos, facilitando la toma de decisiones basadas en probabilidades.\n",
        "\n"
      ],
      "metadata": {
        "id": "vaU_nXOB5Or0"
      }
    },
    {
      "cell_type": "markdown",
      "source": [
        "## Reto: Desafíos sobre Distribuciones de Probabilidad\n",
        "\n",
        "A continuación, tienes seis preguntas para que pongas en práctica lo que has aprendido sobre distribuciones de probabilidad, pruebas de normalidad, z-scores, y la construcción de intervalos de confianza en Python. Utiliza los datasets proporcionados para resolverlas. ¡Manos a la obra!"
      ],
      "metadata": {
        "id": "8FjPldRf4OKI"
      }
    },
    {
      "cell_type": "markdown",
      "source": [
        "**1. Prueba de Normalidad sobre el ritmo cardíaco**\n",
        "\n",
        "Realiza una prueba de normalidad (Prueba Omnibus) sobre la variable baseline value (ritmo cardíaco fetal). ¿Los datos siguen una distribución normal? Interpreta el resultado de la prueba y discute qué implicaciones tendría si los datos no fueran normales."
      ],
      "metadata": {
        "id": "k2E0Mc3i4loY"
      }
    },
    {
      "cell_type": "code",
      "source": [],
      "metadata": {
        "id": "amB_Dskf4rSX"
      },
      "execution_count": null,
      "outputs": []
    },
    {
      "cell_type": "markdown",
      "source": [
        "**2. Intervalos de Confianza para el ritmo cardíaco fetal**\n",
        "\n",
        "Calcula el intervalo de confianza del 95% para la media del ritmo cardíaco de los fetos utilizando la variable baseline value. Luego, interpreta el intervalo en un contexto clínico: ¿Qué nos dice este intervalo sobre la variabilidad del ritmo cardíaco fetal en la población?\n"
      ],
      "metadata": {
        "id": "X2ruy97-4rrP"
      }
    },
    {
      "cell_type": "code",
      "source": [],
      "metadata": {
        "id": "xDoC1XAt42Ec"
      },
      "execution_count": null,
      "outputs": []
    },
    {
      "cell_type": "markdown",
      "source": [
        "**3. Z-Score y probabilidad para un ritmo cardíaco elevado**\n",
        "\n",
        "Utilizando los datos de la variable baseline value, calcula el z-score para un ritmo cardíaco de 130. A partir de este z-score, determina la probabilidad de que un feto tenga un ritmo cardíaco mayor a 130. Explica cada paso del cálculo y discute las posibles implicaciones médicas de este resultado."
      ],
      "metadata": {
        "id": "sAQDuOoM4xV9"
      }
    },
    {
      "cell_type": "code",
      "source": [],
      "metadata": {
        "id": "xXA-4d2l5GHi"
      },
      "execution_count": null,
      "outputs": []
    },
    {
      "cell_type": "markdown",
      "source": [
        "---\n",
        "## Gracias por completar este laboratorio!"
      ],
      "metadata": {
        "id": "-_eJNdqb2HjY"
      }
    }
  ]
}