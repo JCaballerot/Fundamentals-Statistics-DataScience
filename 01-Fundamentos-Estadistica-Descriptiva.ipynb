{
  "nbformat": 4,
  "nbformat_minor": 0,
  "metadata": {
    "colab": {
      "provenance": [],
      "authorship_tag": "ABX9TyPmvNsp8pLN4/J7aWIsbJwY",
      "include_colab_link": true
    },
    "kernelspec": {
      "name": "python3",
      "display_name": "Python 3"
    },
    "language_info": {
      "name": "python"
    }
  },
  "cells": [
    {
      "cell_type": "markdown",
      "metadata": {
        "id": "view-in-github",
        "colab_type": "text"
      },
      "source": [
        "<a href=\"https://colab.research.google.com/github/JCaballerot/Statistics-DataScience/blob/main/01-Fundamentos-Estadistica-Descriptiva.ipynb\" target=\"_parent\"><img src=\"https://colab.research.google.com/assets/colab-badge.svg\" alt=\"Open In Colab\"/></a>"
      ]
    },
    {
      "cell_type": "markdown",
      "source": [
        "\n",
        "<img src=\"https://storage.googleapis.com/kaggle-datasets-images/4471/6849/ef168f48f7a3fc4c669f4bd419c3f7ab/dataset-cover.jpg?t=2017-11-12-21-28-19\" alt=\"HTML5 Icon\" style=\"width: 600px; height: 450px;\">\n",
        "<div style=\"text-align: center\"></div>"
      ],
      "metadata": {
        "id": "SFsaVG60csB1"
      }
    },
    {
      "cell_type": "markdown",
      "source": [
        "<h1 style=\"text-align: center;\">Bank Marketing Dataset</h1>\n"
      ],
      "metadata": {
        "id": "QLRqaYhicMuY"
      }
    },
    {
      "cell_type": "markdown",
      "source": [
        "\n",
        "**Introducción**\n",
        "\n",
        "En este laboratorio, aprenderás a usar Python para analizar datos aplicando los fundamentos de estadística descriptiva. Trabajaremos con el conjunto de datos de marketing bancario para explorar las características de los clientes y comprender cómo aplicar técnicas estadísticas clave."
      ],
      "metadata": {
        "id": "1nQ6M-RLcTu4"
      }
    },
    {
      "cell_type": "markdown",
      "source": [
        "### Tabla de Contenidos\n",
        "\n",
        "1. [Importación de librerías](#importacion-de-librerias)\n",
        "2. [Lectura del dataset](#lectura-del-dataset)\n",
        "3. [Análisis estadístico básico](#analisis-estadistico-basico)\n",
        "   - [Media, mediana, moda, cuantiles](#media-mediana-moda-y-cuantiles)\n",
        "   - [Desviación estándar y rangos](#desviacion-estandar-y-rangos)\n",
        "4. [Visualización de datos](#visualizacion-de-datos)\n",
        "   - [Histogramas](#histogramas)\n",
        "   - [Boxplots](#boxplots)\n"
      ],
      "metadata": {
        "id": "5BhdZQyXc0eu"
      }
    },
    {
      "cell_type": "markdown",
      "source": [
        "---"
      ],
      "metadata": {
        "id": "AI___q9PdmUn"
      }
    },
    {
      "cell_type": "markdown",
      "source": [
        "## 1. Importación de librerías\n"
      ],
      "metadata": {
        "id": "DDQC410fe6pF"
      }
    },
    {
      "cell_type": "markdown",
      "source": [
        "Estas librerías son fundamentales para el análisis de datos. pandas y numpy nos permiten manejar y procesar datos eficientemente, mientras que seaborn y matplotlib nos ayudan a visualizarlos."
      ],
      "metadata": {
        "id": "InF3fI4LfSgr"
      }
    },
    {
      "cell_type": "code",
      "source": [
        "# Importamos las librerías necesarias para manejar datos y realizar visualizaciones.\n",
        "\n",
        "import pandas as pd\n",
        "import numpy as np\n",
        "from sklearn.preprocessing import KBinsDiscretizer\n",
        "import seaborn as sns\n",
        "import matplotlib.pyplot as plt\n"
      ],
      "metadata": {
        "id": "Zl53dz2ubRs0"
      },
      "execution_count": null,
      "outputs": []
    },
    {
      "cell_type": "markdown",
      "source": [
        "## 2. Lectura del dataset\n"
      ],
      "metadata": {
        "id": "f5OdMe6xfHpJ"
      }
    },
    {
      "cell_type": "markdown",
      "source": [
        " En este paso, cargamos el archivo bank.csv que contiene datos sobre clientes de una campaña de marketing de un banco. Exploramos las primeras filas para asegurarnos de que el archivo se ha cargado correctamente."
      ],
      "metadata": {
        "id": "iirV4WlzfPrf"
      }
    },
    {
      "cell_type": "code",
      "execution_count": null,
      "metadata": {
        "id": "6_EK3xubawLN"
      },
      "outputs": [],
      "source": [
        "# Cargamos los datos desde un archivo CSV y mostramos las primeras filas para verificar su correcta lectura.\n",
        "pddf = pd.read_csv('bank.csv')\n",
        "print(\"Primeras filas del dataset:\")\n",
        "print(pddf.head())\n"
      ]
    },
    {
      "cell_type": "markdown",
      "source": [
        "### 2.1. Exploración inicial de datos\n",
        "\n"
      ],
      "metadata": {
        "id": "JspdWwYUdnqB"
      }
    },
    {
      "cell_type": "markdown",
      "source": [
        "Este análisis inicial nos permite entender el tamaño del conjunto de datos (número de filas y columnas) y los tipos de datos presentes en cada columna, lo cual es útil para preparar el análisis."
      ],
      "metadata": {
        "id": "C65yNO1Wfj3j"
      }
    },
    {
      "cell_type": "code",
      "source": [
        "# Mostramos el tamaño del dataset y el tipo de datos para cada columna.\n",
        "print(\"Dimensiones del dataset:\", pddf.shape)\n",
        "print(\"Tipos de datos en cada columna:\")\n",
        "print(pddf.dtypes)\n"
      ],
      "metadata": {
        "id": "98qsllq_dzYq"
      },
      "execution_count": null,
      "outputs": []
    },
    {
      "cell_type": "markdown",
      "source": [
        "## 3. Medidas de tendencia central\n"
      ],
      "metadata": {
        "id": "dhpMIsn6dzrm"
      }
    },
    {
      "cell_type": "markdown",
      "source": [
        "### 3.1. Media\n"
      ],
      "metadata": {
        "id": "9egmC7U2eE2T"
      }
    },
    {
      "cell_type": "markdown",
      "source": [
        "La media nos proporciona el valor promedio de una variable. Aquí calculamos la media de la edad de los clientes."
      ],
      "metadata": {
        "id": "iEjweE6NfyIK"
      }
    },
    {
      "cell_type": "code",
      "source": [
        "# Calculamos la media de la edad.\n",
        "print(\"Media de edad:\", pddf['age'].mean())"
      ],
      "metadata": {
        "id": "yFHaDQ_6ftaM"
      },
      "execution_count": null,
      "outputs": []
    },
    {
      "cell_type": "markdown",
      "source": [
        "### 3.2. Mediana\n"
      ],
      "metadata": {
        "id": "sB_MDYMgfxZS"
      }
    },
    {
      "cell_type": "markdown",
      "source": [
        "La mediana es el valor central de una distribución y es menos sensible a valores atípicos que la media."
      ],
      "metadata": {
        "id": "Vy7KXpT4f3XT"
      }
    },
    {
      "cell_type": "code",
      "source": [
        "# Calculamos la mediana de la edad.\n",
        "print(\"Mediana de edad:\", pddf['age'].median())"
      ],
      "metadata": {
        "id": "jdd4Qq0nf3-X"
      },
      "execution_count": null,
      "outputs": []
    },
    {
      "cell_type": "markdown",
      "source": [
        "### 3.3. Cuantiles\n"
      ],
      "metadata": {
        "id": "VoKq0Dl6gA1J"
      }
    },
    {
      "cell_type": "markdown",
      "source": [
        "Los cuantiles nos ayudan a dividir los datos en partes iguales. Aquí se muestran los valores de edad al 10%, 25%, 50% (mediana), 75% y 90%."
      ],
      "metadata": {
        "id": "LUyb7PY6gF_V"
      }
    },
    {
      "cell_type": "code",
      "source": [
        "# Cuantiles de edad\n",
        "print(np.percentile(pddf.age, [10, 25, 50, 75, 90]))\n"
      ],
      "metadata": {
        "id": "-TfAg_c3gDMU"
      },
      "execution_count": null,
      "outputs": []
    },
    {
      "cell_type": "markdown",
      "source": [
        "### 3.4. Análisis agrupado con groupby\n"
      ],
      "metadata": {
        "id": "iTTLz8fdiGoJ"
      }
    },
    {
      "cell_type": "markdown",
      "source": [
        "**Media agrupada por estado civil**\n"
      ],
      "metadata": {
        "id": "JeRfsT_kiMfo"
      }
    },
    {
      "cell_type": "code",
      "source": [
        "# Agrupamos los datos por estado civil y calculamos la media de la edad para cada grupo.\n",
        "print(pddf.groupby('marital')['age'].mean())\n"
      ],
      "metadata": {
        "id": "nlMQHekdiKcN"
      },
      "execution_count": null,
      "outputs": []
    },
    {
      "cell_type": "markdown",
      "source": [
        "**Conteo de observaciones por estado civil**"
      ],
      "metadata": {
        "id": "-L70Gxf9iTb2"
      }
    },
    {
      "cell_type": "code",
      "source": [
        "# Mostramos el número de observaciones en cada grupo de estado civil.\n",
        "print(pddf.groupby('marital')['age'].count())\n"
      ],
      "metadata": {
        "id": "HFwh1gWliV3E"
      },
      "execution_count": null,
      "outputs": []
    },
    {
      "cell_type": "markdown",
      "source": [
        "El uso de groupby es crucial para realizar análisis estadísticos segmentados. Agrupar los datos por estado civil, por ejemplo, nos permite ver cómo se distribuyen las edades en función de esa variable."
      ],
      "metadata": {
        "id": "Kuhc7UPGiZCr"
      }
    },
    {
      "cell_type": "markdown",
      "source": [
        "**Media y conteo estándar por educación**\n"
      ],
      "metadata": {
        "id": "HhnTxkMuidko"
      }
    },
    {
      "cell_type": "code",
      "source": [
        "# Calculamos la media y desviación estándar de la duración de la llamada según el nivel educativo.\n",
        "grouped = pddf.groupby('education')['duration'].agg(['count', 'mean'])\n",
        "print(grouped)\n"
      ],
      "metadata": {
        "id": "qIYXUlZNih7w"
      },
      "execution_count": null,
      "outputs": []
    },
    {
      "cell_type": "markdown",
      "source": [
        "## 4. Medidas de dispersión"
      ],
      "metadata": {
        "id": "qSTmZTdxhx5g"
      }
    },
    {
      "cell_type": "markdown",
      "source": [
        "### 4.1. Desviación estándar y rangos\n"
      ],
      "metadata": {
        "id": "PiG-JsNNhoa6"
      }
    },
    {
      "cell_type": "markdown",
      "source": [
        "La desviación estándar nos da una idea de la dispersión de los datos alrededor de la media. El rango aproximado nos permite observar el intervalo de valores donde se encuentra la mayoría de los datos."
      ],
      "metadata": {
        "id": "xZBrIcLKiAjn"
      }
    },
    {
      "cell_type": "code",
      "source": [
        "# Calculamos la desviación estándar y el rango de la edad.\n",
        "media_edad = pddf['age'].mean()\n",
        "std_edad = pddf['age'].std()\n",
        "print(f\"Desviación estándar de la edad: {std_edad}\")\n",
        "print(f\"Rango aproximado de edad: {media_edad - std_edad} - {media_edad + std_edad}\")\n"
      ],
      "metadata": {
        "id": "CMFA_TAmh-mh"
      },
      "execution_count": null,
      "outputs": []
    },
    {
      "cell_type": "markdown",
      "source": [
        "### 4.2. Cálculo del coeficiente de variación (CV)\n"
      ],
      "metadata": {
        "id": "eJlV5cVYlleK"
      }
    },
    {
      "cell_type": "markdown",
      "source": [
        "Coeficiente de Variación (CV) = (Desviación Estándar / Media) * 100\n",
        "Esto nos da una métrica que nos permite comparar la variabilidad de dos o más variables independientemente de sus unidades o escalas.\n",
        "Se multiplica por 100 para expresar el resultado en porcentaje, facilitando la interpretación."
      ],
      "metadata": {
        "id": "dCQTHoC6ltPh"
      }
    },
    {
      "cell_type": "code",
      "source": [
        "# Calculamos el CV de la variable 'age' (edad).\n",
        "mean_age = pddf['age'].mean()\n",
        "std_age = pddf['age'].std()\n",
        "cv_age = (std_age / mean_age) * 100\n",
        "print(f\"Coeficiente de variación de la edad (age): {cv_age:.2f}%\")"
      ],
      "metadata": {
        "id": "whPbmq_hlocb"
      },
      "execution_count": null,
      "outputs": []
    },
    {
      "cell_type": "code",
      "source": [
        "\n",
        "# Calculamos el CV de la variable 'duration' (duración de las llamadas).\n",
        "mean_duration = pddf['duration'].mean()\n",
        "std_duration = pddf['duration'].std()\n",
        "cv_duration = (std_duration / mean_duration) * 100\n",
        "print(f\"Coeficiente de variación de la duración (duration): {cv_duration:.2f}%\")"
      ],
      "metadata": {
        "id": "sQ0qosl2lqAH"
      },
      "execution_count": null,
      "outputs": []
    },
    {
      "cell_type": "markdown",
      "source": [
        "**Interpretación:**\n",
        "\n",
        "CV de la edad (26.78%): Esto indica que la edad tiene una variabilidad moderada respecto a su media.\n",
        "\n",
        "CV de la duración (60.45%): La duración de las llamadas tiene una mayor variabilidad relativa que la edad, lo que sugiere que los tiempos de las llamadas son más dispersos en relación con su promedio."
      ],
      "metadata": {
        "id": "urKkgjGrl-Zg"
      }
    },
    {
      "cell_type": "markdown",
      "source": [
        "### 4.3. Rango"
      ],
      "metadata": {
        "id": "cuhT2eBwkhFo"
      }
    },
    {
      "cell_type": "markdown",
      "source": [
        "El rango es la diferencia entre el valor máximo y el valor mínimo de una variable.\n",
        "\n"
      ],
      "metadata": {
        "id": "UHNit9_Eko7H"
      }
    },
    {
      "cell_type": "code",
      "source": [
        "# Calculamos el rango de la edad.\n",
        "rango_edad = pddf['age'].max() - pddf['age'].min()\n",
        "print(f\"Rango de la edad: {rango_edad}\")\n"
      ],
      "metadata": {
        "id": "eg1TtMAckl8N"
      },
      "execution_count": null,
      "outputs": []
    },
    {
      "cell_type": "markdown",
      "source": [
        "### 4.4 Cálculo de rangos estadísticos y conteo de casos\n"
      ],
      "metadata": {
        "id": "FzeswpFVk6NR"
      }
    },
    {
      "cell_type": "markdown",
      "source": [
        "Primero, definimos los rangos de edad manualmente para dividir la población en intervalos (rangos), luego contamos cuántos casos caen dentro de cada rango."
      ],
      "metadata": {
        "id": "Dzf3OisClH1j"
      }
    },
    {
      "cell_type": "code",
      "source": [
        "# Definimos los intervalos de edad (por ejemplo, en intervalos de 10 años).\n",
        "bins = [10, 20, 30, 40, 50, 60, 70, 80, 90]\n",
        "\n",
        "# Usamos pd.cut para clasificar las edades en los rangos definidos.\n",
        "pddf['rango_edad'] = pd.cut(pddf['age'], bins=bins, right=False)\n"
      ],
      "metadata": {
        "id": "m-tlu0egk-w8"
      },
      "execution_count": null,
      "outputs": []
    },
    {
      "cell_type": "code",
      "source": [
        "# Mostramos el conteo de casos por cada rango de edad.\n",
        "conteo_rangos = pddf['rango_edad'].value_counts().sort_index()\n",
        "\n",
        "print(conteo_rangos)\n"
      ],
      "metadata": {
        "id": "-ZfyT2mtlEL0"
      },
      "execution_count": null,
      "outputs": []
    },
    {
      "cell_type": "markdown",
      "source": [
        "## 5. Visualización de datos\n"
      ],
      "metadata": {
        "id": "8iQwMSjYjOPs"
      }
    },
    {
      "cell_type": "markdown",
      "source": [
        "### 5.1. Histogramas\n"
      ],
      "metadata": {
        "id": "P2YU1PVJjV6y"
      }
    },
    {
      "cell_type": "markdown",
      "source": [
        "El histograma nos ayuda a visualizar la frecuencia con la que aparecen ciertos valores de edad en el dataset."
      ],
      "metadata": {
        "id": "FG2Ui-tuja5N"
      }
    },
    {
      "cell_type": "code",
      "source": [
        "# Histograma de la edad para visualizar la distribución.\n",
        "pddf['age'].hist(bins=5)\n",
        "plt.title(\"Distribución de edades\")\n",
        "plt.xlabel(\"Edad\")\n",
        "plt.ylabel(\"Frecuencia\")\n",
        "plt.show()\n"
      ],
      "metadata": {
        "id": "rslTq_C0jY0A"
      },
      "execution_count": null,
      "outputs": []
    },
    {
      "cell_type": "code",
      "source": [
        "# Histograma más atractivo de la distribución de edades usando seaborn.\n",
        "plt.figure(figsize=(10,6))\n",
        "sns.histplot(pddf['age'], bins=10, kde=True, color='skyblue')\n",
        "plt.title(\"Distribución de Edades de Clientes\", fontsize=16)\n",
        "plt.xlabel(\"Edad\", fontsize=14)\n",
        "plt.ylabel(\"Frecuencia\", fontsize=14)\n",
        "plt.grid(True)\n",
        "plt.show()\n"
      ],
      "metadata": {
        "id": "uV8lTXBTkYdE"
      },
      "execution_count": null,
      "outputs": []
    },
    {
      "cell_type": "markdown",
      "source": [
        "### 5.2. Boxplots\n"
      ],
      "metadata": {
        "id": "6_3sktrPjhtH"
      }
    },
    {
      "cell_type": "code",
      "source": [
        "# Boxplot de la duración de la llamada.\n",
        "sns.boxplot(x='age', data=pddf)\n",
        "plt.title(\"Boxplot de la Edad\")\n",
        "plt.show()\n"
      ],
      "metadata": {
        "id": "V63w8pdijhPZ"
      },
      "execution_count": null,
      "outputs": []
    },
    {
      "cell_type": "markdown",
      "source": [
        "El boxplot nos permite visualizar la dispersión de los datos y detectar valores atípicos (outliers).\n",
        "\n"
      ],
      "metadata": {
        "id": "ZsfAm8bmjl8O"
      }
    },
    {
      "cell_type": "markdown",
      "source": [
        "**Identificación de outliers usando el rango intercuartílico (IQR)**\n"
      ],
      "metadata": {
        "id": "oyJsssp0jrWY"
      }
    },
    {
      "cell_type": "code",
      "source": [
        "# Calculamos los límites para detectar outliers.\n",
        "Q1 = np.percentile(pddf['age'], 25)\n",
        "Q3 = np.percentile(pddf['age'], 75)\n",
        "RIC = Q3 - Q1\n",
        "upper_limit = Q3 + 1.5*RIC\n",
        "lower_limit = Q1 - 1.5*RIC\n",
        "print(f\"Límite superior: {upper_limit}\")\n",
        "print(f\"Límite inferior: {lower_limit}\")\n"
      ],
      "metadata": {
        "id": "7rj1pPtcjvHn"
      },
      "execution_count": null,
      "outputs": []
    },
    {
      "cell_type": "markdown",
      "source": [
        "El rango intercuartílico nos ayuda a identificar los outliers, o valores atípicos, que están muy alejados del rango normal de los datos."
      ],
      "metadata": {
        "id": "GKXAr9I9jxeb"
      }
    },
    {
      "cell_type": "markdown",
      "source": [
        "## Conclusión:\n",
        "\n",
        "Has completado el laboratorio de Introducción y Estadística Descriptiva utilizando Python. A lo largo del análisis, hemos utilizado diversas herramientas para explorar y entender el dataset de manera eficaz. Las técnicas mostradas aquí son aplicables a cualquier análisis de datos en Ciencia de Datos."
      ],
      "metadata": {
        "id": "eoT6UpOgj0Ed"
      }
    },
    {
      "cell_type": "markdown",
      "source": [
        "---"
      ],
      "metadata": {
        "id": "Fwu-sO9RmmaX"
      }
    },
    {
      "cell_type": "markdown",
      "source": [
        "## Reto: Desafíos Estadísticos\n"
      ],
      "metadata": {
        "id": "S93fw_ywmrMv"
      }
    },
    {
      "cell_type": "markdown",
      "source": [
        "A continuación, tienes seis preguntas retadoras para que pongas en práctica lo que has aprendido sobre estadística descriptiva y visualización de datos en Python. Utiliza el dataset de **Bank Marketing** para resolverlas. ¡Manos a la obra!\n"
      ],
      "metadata": {
        "id": "xefbMZaqmsor"
      }
    },
    {
      "cell_type": "markdown",
      "source": [
        "1. **¿Cuál es el coeficiente de variación del balance (`balance`) de los clientes?**  \n",
        "   - Compara este coeficiente con el de las variables `age` (edad) y `duration` (duración). ¿Cuál de estas variables tiene mayor variabilidad relativa? ¿Por qué crees que ocurre esto?"
      ],
      "metadata": {
        "id": "XY6ni5CKmuow"
      }
    },
    {
      "cell_type": "code",
      "source": [],
      "metadata": {
        "id": "QMxK7LA6m3Ct"
      },
      "execution_count": null,
      "outputs": []
    },
    {
      "cell_type": "markdown",
      "source": [
        "\n",
        "2. **Realiza un análisis agrupado por nivel de educación (`education`) y calcula la media, mediana y desviación estándar del `balance` de los clientes.**  \n",
        "   - ¿Existen diferencias significativas en el `balance` promedio entre los diferentes niveles educativos? ¿Qué implicaciones podría tener esto para una campaña de marketing?\n"
      ],
      "metadata": {
        "id": "9WRz1mN6mxx7"
      }
    },
    {
      "cell_type": "code",
      "source": [],
      "metadata": {
        "id": "e8SCPXejm3r2"
      },
      "execution_count": null,
      "outputs": []
    },
    {
      "cell_type": "markdown",
      "source": [
        "3. **Calcula los rangos intercuartílicos (RIC) para las variables `duration` y `campaign` (número de contactos realizados durante la campaña).**  \n",
        "   - Compara ambos RIC y discute cuál de las dos variables tiene una mayor dispersión alrededor de la mediana."
      ],
      "metadata": {
        "id": "_AxiOoJ9m6TM"
      }
    },
    {
      "cell_type": "code",
      "source": [],
      "metadata": {
        "id": "oLXrhDMOm5va"
      },
      "execution_count": null,
      "outputs": []
    },
    {
      "cell_type": "markdown",
      "source": [
        "\n",
        "4. **Crea un histograma y un boxplot para la variable `balance`.**  \n",
        "   - A partir de estos gráficos, identifica si existen valores atípicos (outliers) y describe cómo afectan la distribución del balance."
      ],
      "metadata": {
        "id": "hYTmvIimm8rA"
      }
    },
    {
      "cell_type": "code",
      "source": [],
      "metadata": {
        "id": "reBhoO2cm-tH"
      },
      "execution_count": null,
      "outputs": []
    },
    {
      "cell_type": "markdown",
      "source": [
        "\n",
        "5. **Utilizando la función `groupby`, analiza la media y el rango intercuartílico (RIC) de la variable `duration` en función de la variable `job` (profesión).**  \n",
        "   - ¿Qué profesiones tienden a tener mayor duración de llamadas? ¿Podrías identificar algún patrón que pueda interesar a un equipo de marketing?"
      ],
      "metadata": {
        "id": "XO8u0Te6m_PQ"
      }
    },
    {
      "cell_type": "code",
      "source": [],
      "metadata": {
        "id": "m0-rgGTsm_r0"
      },
      "execution_count": null,
      "outputs": []
    },
    {
      "cell_type": "markdown",
      "source": [
        "6. **Usa el método de rangos estadísticos para dividir la variable `balance` en cinco categorías (bins).**  \n",
        "   - Luego, crea una tabla que muestre el conteo de clientes en cada categoría y visualízalo en un gráfico de barras. ¿Qué puedes inferir sobre la distribución del `balance` de los clientes?\n",
        "\n"
      ],
      "metadata": {
        "id": "NXPbpxF8mf39"
      }
    },
    {
      "cell_type": "code",
      "source": [],
      "metadata": {
        "id": "1VcHyNO3nREt"
      },
      "execution_count": null,
      "outputs": []
    },
    {
      "cell_type": "markdown",
      "source": [
        "---\n",
        "## Gracias por completar este laboratorio!"
      ],
      "metadata": {
        "id": "vxZAifyHeiuc"
      }
    }
  ]
}